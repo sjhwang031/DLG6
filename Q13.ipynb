{
  "nbformat": 4,
  "nbformat_minor": 0,
  "metadata": {
    "colab": {
      "provenance": [],
      "authorship_tag": "ABX9TyMx5nvy28REjXwZj0EYe2Wr",
      "include_colab_link": true
    },
    "kernelspec": {
      "name": "python3",
      "display_name": "Python 3"
    },
    "language_info": {
      "name": "python"
    }
  },
  "cells": [
    {
      "cell_type": "markdown",
      "metadata": {
        "id": "view-in-github",
        "colab_type": "text"
      },
      "source": [
        "<a href=\"https://colab.research.google.com/github/sjhwang031/DLG6/blob/main/Q13.ipynb\" target=\"_parent\"><img src=\"https://colab.research.google.com/assets/colab-badge.svg\" alt=\"Open In Colab\"/></a>"
      ]
    },
    {
      "cell_type": "markdown",
      "source": [
        "Q13. Create a list called numbers. Using the random.randint() function, add five random integers to it. Then, print the list.\n",
        "\n",
        "Note: You should not write the random number on your own. The code should take the random number and add it to your list."
      ],
      "metadata": {
        "id": "wVro18wFkneT"
      }
    },
    {
      "cell_type": "code",
      "execution_count": 1,
      "metadata": {
        "id": "ygnt6Ugokiis",
        "outputId": "8abb31f0-0e70-49c1-fff0-c0d35ef0aaf1",
        "colab": {
          "base_uri": "https://localhost:8080/"
        }
      },
      "outputs": [
        {
          "output_type": "stream",
          "name": "stdout",
          "text": [
            "[3, 6, 10, 1]\n"
          ]
        }
      ],
      "source": [
        "numbers = []\n",
        "import random\n",
        "for i in range(1,5):\n",
        "  n = random.randint(0,10)\n",
        "  numbers.append(n)\n",
        "  i = i+1\n",
        "print(numbers)"
      ]
    }
  ]
}