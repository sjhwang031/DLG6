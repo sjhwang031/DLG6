{
  "nbformat": 4,
  "nbformat_minor": 0,
  "metadata": {
    "colab": {
      "provenance": [],
      "authorship_tag": "ABX9TyOEeU/oDNIECMRDGabqkOqo",
      "include_colab_link": true
    },
    "kernelspec": {
      "name": "python3",
      "display_name": "Python 3"
    },
    "language_info": {
      "name": "python"
    }
  },
  "cells": [
    {
      "cell_type": "markdown",
      "metadata": {
        "id": "view-in-github",
        "colab_type": "text"
      },
      "source": [
        "<a href=\"https://colab.research.google.com/github/sjhwang031/DLG6/blob/main/Q14.ipynb\" target=\"_parent\"><img src=\"https://colab.research.google.com/assets/colab-badge.svg\" alt=\"Open In Colab\"/></a>"
      ]
    },
    {
      "cell_type": "markdown",
      "source": [
        "Q14. [1] Create a list of your favorite colors called color_list with at least three colors. [2] Use a for loop to iterate through the list and print each color."
      ],
      "metadata": {
        "id": "lQPWujO_k3lC"
      }
    },
    {
      "cell_type": "code",
      "source": [
        "color_list = [\"red\",\"pink\",\"orange\"]\n",
        "\n",
        "for c in color_list:\n",
        "  print(c)"
      ],
      "metadata": {
        "id": "xAAf0Ez6BXII",
        "outputId": "d3813418-b4ff-4f4a-e04a-f2cbb05824eb",
        "colab": {
          "base_uri": "https://localhost:8080/"
        }
      },
      "execution_count": 1,
      "outputs": [
        {
          "output_type": "stream",
          "name": "stdout",
          "text": [
            "red\n",
            "pink\n",
            "orange\n"
          ]
        }
      ]
    }
  ]
}